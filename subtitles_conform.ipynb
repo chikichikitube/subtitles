{
 "cells": [
  {
   "cell_type": "code",
   "execution_count": 26,
   "metadata": {},
   "outputs": [
    {
     "data": {
      "text/plain": [
       "[]"
      ]
     },
     "execution_count": 26,
     "metadata": {},
     "output_type": "execute_result"
    }
   ],
   "source": [
    "import os\n",
    "import ass\n",
    "\n",
    "subtitle_dir = 'subtitles'\n",
    "subtitle_dir_conformed = 'subtitles_conformed'\n",
    "\n",
    "font_list = []\n",
    "\n",
    "# Loop through all the files in the subtitle directory\n",
    "for filename in os.listdir(subtitle_dir):\n",
    "  subspath = os.path.join(subtitle_dir, filename)\n",
    "  newsubspath = os.path.join(subtitle_dir_conformed, filename)\n",
    "  with open(subspath, encoding='utf_8_sig') as assfile:\n",
    "    # Check if the file is a .ass subtitle file\n",
    "    if filename.endswith('.ass'):\n",
    "        # Parse the subtitle file using pyass\n",
    "        subtitle = ass.parse(assfile)\n",
    "        #print(dir(subtitle))\n",
    "        for style in subtitle.styles:\n",
    "          style.fontname = 'Arial'\n",
    "          if style.scale_x != 100:\n",
    "            style.scale_x = 100\n",
    "          with open(newsubspath, \"w\",encoding='utf_8_sig') as newassfile:\n",
    "            subtitle.dump_file(newassfile)\n",
    "          # if style.fontname not in font_list:\n",
    "          #   font_list.append(style.fontname)\n",
    "font_list"
   ]
  },
  {
   "cell_type": "code",
   "execution_count": null,
   "metadata": {},
   "outputs": [],
   "source": []
  }
 ],
 "metadata": {
  "kernelspec": {
   "display_name": "base",
   "language": "python",
   "name": "python3"
  },
  "language_info": {
   "codemirror_mode": {
    "name": "ipython",
    "version": 3
   },
   "file_extension": ".py",
   "mimetype": "text/x-python",
   "name": "python",
   "nbconvert_exporter": "python",
   "pygments_lexer": "ipython3",
   "version": "3.8.13"
  },
  "orig_nbformat": 4
 },
 "nbformat": 4,
 "nbformat_minor": 2
}
