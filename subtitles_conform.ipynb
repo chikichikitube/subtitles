{
 "cells": [
  {
   "cell_type": "code",
   "execution_count": null,
   "metadata": {},
   "outputs": [],
   "source": [
    "import os\n",
    "import ass\n",
    "import pandas as pd"
   ]
  },
  {
   "cell_type": "code",
   "execution_count": 40,
   "metadata": {},
   "outputs": [],
   "source": [
    "pd.options.display.max_rows = None"
   ]
  },
  {
   "cell_type": "code",
   "execution_count": 46,
   "metadata": {},
   "outputs": [
    {
     "name": "stdout",
     "output_type": "stream",
     "text": [
      "{'方正正粗黑_GBK': 16, '迷你简粗宋': 30, '造字工房力黑（非商用）常规体': 29, 'DFRomanYukiB Std W9': 53, '田氏颜体大字库': 1, '方正正中黑_GBK': 30, '方正粗圆_GBK': 30, 'Arial': 3230, 'Montara Gothic': 17, 'arial': 7, 'Franklin Gothic Medium': 150, 'Joyful Juliana': 1, 'Another': 2, 'Arial Black': 92, 'Latha': 7, 'Impact': 112, 'MS UI Gothic': 11, 'Arial Narrow': 512, 'FZZhengHei-DB-GBK': 24, 'DFRomanYukiB Std': 17, 'FZCuYuan-M03': 17, 'FZZhengHei-B-GBK': 15, '方正兰亭圆_GBK_中': 17, 'FZPinShangHeiS-DB-GB': 1, '方正韵动特黑简体': 38, 'Bookman Old Style': 115, '游ゴシック': 24, 'Calibri': 38, 'Bell Gothic Std Black': 37, 'VTC Letterer Pro': 21, 'naturalistic playground': 2, 'Franklin Gothic Demi': 77, 'Calibri Light': 2, 'Chinacat': 1, 'Minion Pro': 1, 'Franklin Gothic Medium Cond': 1, 'Tahoma': 64, 'Whitney HTF Medium': 12, 'FZLanTingYuan-DB-GBK': 4, 'FZYunDongHeiS-H-GB': 27, 'FZRuiZhengYuanS': 3, '迷你简综艺': 23, 'Verdana': 5, 'Cooper Black': 164, 'Bauhaus 93': 21, 'DINPro-Black': 1, 'Ebrima': 22, 'Segoe UI Black': 13, 'Quark Zone': 33, 'Aharoni': 2, '.Helvetica LT MM': 9, 'Roboto Slab': 6, 'AcmeFont': 27, 'Brandish': 10, 'Osaka-Sans Serif': 12, 'Simply Rounded': 23, 'Dominican': 26, 'Government Agent BB': 28, 'Smooth Pet': 19, 'Wind Sans Serif': 17, 'Gyosho': 13, 'Liniga': 12, 'Comic Sans MS': 7, 'Berlin Sans FB Demi': 14, 'Eras Bold ITC': 1, '方正锐正圆 简 ExtraBold': 14, 'Arial Rounded MT Bold': 88, 'Gabriola': 4, 'Haettenschweiler': 5, 'Monotype Corsiva': 4, 'Caladea': 4, 'KaiTi': 5, '@仓耳玄三M W03': 1, 'UD Digi Kyokasho NK-R': 1, '思源黑体 CN Regular': 1, '思源宋体 Heavy': 1, 'Dayton': 8, 'Exotc350 Bd BT': 2, 'Cambria': 6, '@SimSun-ExtB': 2, '@kawaii手書き文字': 16, 'Segoe UI Semibold': 9, 'Lucida Calligraphy': 1, 'calibri': 1, 'DeathRattle BB': 25, 'Viner Hand ITC': 9, \"Porky's\": 12, 'Andy': 23, 'Book Antiqua': 6, 'Arial black': 1, 'CCYadaYadaYadaInt': 3, 'Tiresias Infofont': 14, 'Ink Free': 1, 'One Stroke Script LET': 8, 'Carlito': 8, 'Ruach LET': 6, 'Courier': 2, 'DejaVu Sans': 3, 'HG丸ｺﾞｼｯｸM-PRO': 7, 'Crimes Times Six': 1, 'Hunter Squared': 1, '@Meiryo UI': 1, '方正品尚黑简体': 2, 'Century Gothic': 33, 'Bebas Neue': 1, 'ebrima': 4, 'Bitstream Charter': 1, 'Kristen ITC': 5, 'Droid Serif': 2, 'DejaVu Serif': 1, 'Myriad Pro Cond': 2, 'Poplar Std': 1, 'Retro Computer': 1, '@方正正中黑_GBK': 5, '方正锐正圆 简': 2, '@方正锐正圆 简': 2, '汉仪粗宋简': 2, '@方正韵动特黑简体': 3, 'Rockwell': 1, 'OctemberScript': 1, '@微软雅黑': 2, 'Commerce Black Condensed SSi': 7, 'Maritime Tropical Neue Double': 1, 'Flubber': 1, 'Microsoft YaHei': 1, '微软雅黑': 5, '楷体': 1, 'Futura LT Medium': 1, '源界明朝': 1, 'Days One': 2, '方正粗宋_GBK': 1, 'Poultrygeist': 1, 'Haunt AOE': 1, 'Neuton': 2, 'Raspoutine Classic': 1, '@迷你简粗宋': 1, '方正兰亭圆_GBK_中粗': 1, 'Gadugi': 1, 'Open Sans Light': 1}\n"
     ]
    }
   ],
   "source": [
    "subtitle_dir = 'subtitles'\n",
    "subtitle_dir_conformed = 'subtitles_conformed'\n",
    "\n",
    "font_list = []\n",
    "font_list2 = []\n",
    "\n",
    "# Loop through all the files in the subtitle directory\n",
    "for filename in os.listdir(subtitle_dir):\n",
    "  subspath = os.path.join(subtitle_dir, filename)\n",
    "  newsubspath = os.path.join(subtitle_dir_conformed, filename)\n",
    "  with open(subspath, encoding='utf_8_sig') as assfile:\n",
    "    # Check if the file is a .ass subtitle file\n",
    "    if filename.endswith('.ass'):\n",
    "        # Parse the subtitle file using pyass\n",
    "        subtitle = ass.parse(assfile)\n",
    "        #print(dir(subtitle))\n",
    "        for style in subtitle.styles:\n",
    "          font_list.append(style.fontname)\n",
    "          if style.fontname not in [\n",
    "            'Arial',\n",
    "            'Cooper Black',\n",
    "            'Franklin Gothic Medium',\n",
    "            'Franklin Gothic Demi',\n",
    "            'Bookman Old Style',\n",
    "            'Impact',\n",
    "            'Arial Black',\n",
    "            'Tiresias Infofont',\n",
    "            'Tahoma',\n",
    "            'Arial Rounded MT Bold'\n",
    "            ]:\n",
    "              style.fontname = 'Arial'\n",
    "\n",
    "          if style.fontname == 'Franklin Gothic Demi':\n",
    "            style.fontname = 'Franklin Gothic Medium'\n",
    "\n",
    "          if style.scale_x != 100:\n",
    "            style.scale_x = 100\n",
    "\n",
    "          font_list2.append(style.fontname)\n",
    "\n",
    "          with open(newsubspath, \"w\",encoding='utf_8_sig') as newassfile:\n",
    "            subtitle.dump_file(newassfile)"
   ]
  },
  {
   "cell_type": "code",
   "execution_count": null,
   "metadata": {},
   "outputs": [],
   "source": [
    "count_dict = {}\n",
    "\n",
    "for item in font_list:\n",
    "    count_dict[item] = font_list.count(item)\n",
    "\n",
    "data = list(count_dict.items())\n",
    "df = pd.DataFrame(data, columns=['font', 'Count']).sort_values('Count', ascending=False)\n",
    "df"
   ]
  },
  {
   "cell_type": "code",
   "execution_count": 49,
   "metadata": {},
   "outputs": [
    {
     "data": {
      "text/html": [
       "<div>\n",
       "<style scoped>\n",
       "    .dataframe tbody tr th:only-of-type {\n",
       "        vertical-align: middle;\n",
       "    }\n",
       "\n",
       "    .dataframe tbody tr th {\n",
       "        vertical-align: top;\n",
       "    }\n",
       "\n",
       "    .dataframe thead th {\n",
       "        text-align: right;\n",
       "    }\n",
       "</style>\n",
       "<table border=\"1\" class=\"dataframe\">\n",
       "  <thead>\n",
       "    <tr style=\"text-align: right;\">\n",
       "      <th></th>\n",
       "      <th>font</th>\n",
       "      <th>Count</th>\n",
       "    </tr>\n",
       "  </thead>\n",
       "  <tbody>\n",
       "    <tr>\n",
       "      <th>0</th>\n",
       "      <td>Arial</td>\n",
       "      <td>4925</td>\n",
       "    </tr>\n",
       "    <tr>\n",
       "      <th>1</th>\n",
       "      <td>Franklin Gothic Medium</td>\n",
       "      <td>227</td>\n",
       "    </tr>\n",
       "    <tr>\n",
       "      <th>6</th>\n",
       "      <td>Cooper Black</td>\n",
       "      <td>164</td>\n",
       "    </tr>\n",
       "    <tr>\n",
       "      <th>4</th>\n",
       "      <td>Bookman Old Style</td>\n",
       "      <td>115</td>\n",
       "    </tr>\n",
       "    <tr>\n",
       "      <th>3</th>\n",
       "      <td>Impact</td>\n",
       "      <td>112</td>\n",
       "    </tr>\n",
       "    <tr>\n",
       "      <th>2</th>\n",
       "      <td>Arial Black</td>\n",
       "      <td>92</td>\n",
       "    </tr>\n",
       "    <tr>\n",
       "      <th>7</th>\n",
       "      <td>Arial Rounded MT Bold</td>\n",
       "      <td>88</td>\n",
       "    </tr>\n",
       "    <tr>\n",
       "      <th>5</th>\n",
       "      <td>Tahoma</td>\n",
       "      <td>64</td>\n",
       "    </tr>\n",
       "    <tr>\n",
       "      <th>8</th>\n",
       "      <td>Tiresias Infofont</td>\n",
       "      <td>14</td>\n",
       "    </tr>\n",
       "  </tbody>\n",
       "</table>\n",
       "</div>"
      ],
      "text/plain": [
       "                     font  Count\n",
       "0                   Arial   4925\n",
       "1  Franklin Gothic Medium    227\n",
       "6            Cooper Black    164\n",
       "4       Bookman Old Style    115\n",
       "3                  Impact    112\n",
       "2             Arial Black     92\n",
       "7   Arial Rounded MT Bold     88\n",
       "5                  Tahoma     64\n",
       "8       Tiresias Infofont     14"
      ]
     },
     "execution_count": 49,
     "metadata": {},
     "output_type": "execute_result"
    }
   ],
   "source": [
    "count_dict2 = {}\n",
    "\n",
    "for item in font_list2:\n",
    "    count_dict2[item] = font_list2.count(item)\n",
    "\n",
    "data = list(count_dict2.items())\n",
    "df = pd.DataFrame(data, columns=['font', 'Count']).sort_values('Count', ascending=False)\n",
    "df"
   ]
  }
 ],
 "metadata": {
  "kernelspec": {
   "display_name": "base",
   "language": "python",
   "name": "python3"
  },
  "language_info": {
   "codemirror_mode": {
    "name": "ipython",
    "version": 3
   },
   "file_extension": ".py",
   "mimetype": "text/x-python",
   "name": "python",
   "nbconvert_exporter": "python",
   "pygments_lexer": "ipython3",
   "version": "3.8.13"
  },
  "orig_nbformat": 4
 },
 "nbformat": 4,
 "nbformat_minor": 2
}
